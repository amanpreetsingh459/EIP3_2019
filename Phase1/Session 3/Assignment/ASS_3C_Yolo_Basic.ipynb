{
  "nbformat": 4,
  "nbformat_minor": 0,
  "metadata": {
    "colab": {
      "name": "ASS_3C - Yolo_Basic.ipynb",
      "version": "0.3.2",
      "provenance": []
    },
    "kernelspec": {
      "name": "python3",
      "display_name": "Python 3"
    },
    "accelerator": "GPU"
  },
  "cells": [
    {
      "metadata": {
        "id": "8edSiHPi2N5l",
        "colab_type": "code",
        "outputId": "416c270d-292a-4b84-bf22-0d9f989d842f",
        "colab": {
          "base_uri": "https://localhost:8080/",
          "height": 34
        }
      },
      "cell_type": "code",
      "source": [
        "# https://keras.io/\n",
        "!pip install -q keras\n",
        "import keras\n",
        "\n",
        "import keras\n",
        "from keras.datasets import cifar10\n",
        "from keras.models import Model, Sequential\n",
        "from keras.layers import Dense, Dropout, Flatten, Input, AveragePooling2D, merge, Activation\n",
        "from keras.layers import Conv2D, MaxPooling2D, BatchNormalization\n",
        "from keras.layers import Concatenate\n",
        "from keras.optimizers import Adam\n",
        "from keras.layers.advanced_activations import LeakyReLU\n",
        "from keras.layers import Reshape, Activation, Conv2D, Input, MaxPooling2D, BatchNormalization, Flatten, Dense, Lambda\n",
        "from keras.layers.merge import concatenate\n",
        "\n",
        "# this part will prevent tensorflow to allocate all the avaliable GPU Memory\n",
        "# backend\n",
        "import tensorflow as tf\n",
        "from keras import backend as k\n",
        "\n",
        "# Don't pre-allocate memory; allocate as-needed\n",
        "config = tf.ConfigProto()\n",
        "config.gpu_options.allow_growth = True\n",
        "\n",
        "# Create a session with the above options specified.\n",
        "k.tensorflow_backend.set_session(tf.Session(config=config))\n",
        "\n",
        "# Hyperparameters\n",
        "batch_size = 128\n",
        "num_classes = 10\n",
        "epochs = 50\n",
        "l = 10\n",
        "num_filter = 20"
      ],
      "execution_count": 0,
      "outputs": [
        {
          "output_type": "stream",
          "text": [
            "Using TensorFlow backend.\n"
          ],
          "name": "stderr"
        }
      ]
    },
    {
      "metadata": {
        "id": "-hkvQwOH2cCO",
        "colab_type": "code",
        "outputId": "bd133c6c-c049-43d2-d8b5-4474bb3bf1c3",
        "colab": {
          "base_uri": "https://localhost:8080/",
          "height": 51
        }
      },
      "cell_type": "code",
      "source": [
        "# Load CIFAR10 Data\n",
        "(x_train, y_train), (x_test, y_test) = cifar10.load_data()\n",
        "img_height, img_width, channel = x_train.shape[1],x_train.shape[2],x_train.shape[3]\n",
        "\n",
        "# convert to one hot encoing \n",
        "y_train = keras.utils.to_categorical(y_train, num_classes)\n",
        "y_test = keras.utils.to_categorical(y_test, num_classes)"
      ],
      "execution_count": 0,
      "outputs": [
        {
          "output_type": "stream",
          "text": [
            "Downloading data from https://www.cs.toronto.edu/~kriz/cifar-10-python.tar.gz\n",
            "170500096/170498071 [==============================] - 31s 0us/step\n"
          ],
          "name": "stdout"
        }
      ]
    },
    {
      "metadata": {
        "id": "ztoDypc63gEs",
        "colab_type": "code",
        "colab": {}
      },
      "cell_type": "code",
      "source": [
        "def space_to_depth_x2(x):\n",
        "    return tf.space_to_depth(x, block_size=2)"
      ],
      "execution_count": 0,
      "outputs": []
    },
    {
      "metadata": {
        "id": "0tUQq8DqB0jO",
        "colab_type": "code",
        "outputId": "66a2377d-439a-4435-b2d0-c9efc35574e8",
        "colab": {
          "base_uri": "https://localhost:8080/",
          "height": 51
        }
      },
      "cell_type": "code",
      "source": [
        "print(img_height)\n",
        "print(img_width)"
      ],
      "execution_count": 0,
      "outputs": [
        {
          "output_type": "stream",
          "text": [
            "32\n",
            "32\n"
          ],
          "name": "stdout"
        }
      ]
    },
    {
      "metadata": {
        "id": "WjyXny9yCFwa",
        "colab_type": "code",
        "colab": {}
      },
      "cell_type": "code",
      "source": [
        "input = Input(shape=(img_height, img_width, channel,))"
      ],
      "execution_count": 0,
      "outputs": []
    },
    {
      "metadata": {
        "id": "2PnVNKJtCK1P",
        "colab_type": "code",
        "outputId": "2d66a5a0-fd15-4814-c8bb-d6f2bff5737c",
        "colab": {
          "base_uri": "https://localhost:8080/",
          "height": 34
        }
      },
      "cell_type": "code",
      "source": [
        "##############\tblock 1\t\t##########################\n",
        "# Layer 1\n",
        "layer1 = Conv2D(32, (3,3), strides=(1,1), padding='same', name='conv_1', use_bias=False)(input)\n",
        "layer1 = BatchNormalization(name='norm_1')(layer1)\n",
        "#layer1 = keras.activations.relu(layer1, alpha=0.1)\n",
        "layer1 = LeakyReLU(alpha=0.1)(layer1)\n",
        "\n",
        "# Layer 2\n",
        "layer2 = Conv2D(64, (3,3), strides=(1,1), padding='same', name='conv_2', use_bias=False)(layer1)\n",
        "layer2 = BatchNormalization(name='norm_2')(layer2)\n",
        "#layer2 = keras.activations.relu(layer2, alpha=0.1)\n",
        "layer2 = LeakyReLU(alpha=0.1)(layer2)\n",
        "\n",
        "\n",
        "# Layer 3\n",
        "layer3 = Conv2D(128, (3,3), strides=(1,1), padding='same', name='conv_3', use_bias=False)(layer2)\n",
        "layer3 = BatchNormalization(name='norm_3')(layer3)\n",
        "#layer3 = keras.activations.relu(layer3, alpha=0.1)\n",
        "layer3 = LeakyReLU(alpha=0.1)(layer3)\n",
        "\n",
        "\n",
        "# Layer 4\n",
        "layer4 = Conv2D(256, (3,3), strides=(1,1), padding='same', name='conv_4', use_bias=False)(layer3)\n",
        "layer4 = BatchNormalization(name='norm_4')(layer4)\n",
        "#layer4 = keras.activations.relu(layer4, alpha=0.1)\n",
        "layer4 = LeakyReLU(alpha=0.1)(layer4)\n",
        "\n",
        "\n",
        "# Layer 5\n",
        "layer5 = Conv2D(512, (3,3), strides=(1,1), padding='same', name='conv_5', use_bias=False)(layer4)\n",
        "layer5 = BatchNormalization(name='norm_5')(layer5)\n",
        "#layer5 = keras.activations.relu(layer5, alpha=0.1)\n",
        "layer5 = LeakyReLU(alpha=0.1)(layer5)\n",
        "\n",
        "layer5 = MaxPooling2D(pool_size=(2, 2))(layer5)\n",
        "\n",
        "skip_connection = layer5\n",
        "\n",
        "##############\tblock 1\tends here\t##########################\n",
        "layer5"
      ],
      "execution_count": 0,
      "outputs": [
        {
          "output_type": "execute_result",
          "data": {
            "text/plain": [
              "<tf.Tensor 'max_pooling2d_305/MaxPool:0' shape=(?, 16, 16, 512) dtype=float32>"
            ]
          },
          "metadata": {
            "tags": []
          },
          "execution_count": 157
        }
      ]
    },
    {
      "metadata": {
        "id": "FJ0mGfbvCS5G",
        "colab_type": "code",
        "outputId": "c11afe2d-7d48-4fb8-a51e-61621504e4e3",
        "colab": {
          "base_uri": "https://localhost:8080/",
          "height": 34
        }
      },
      "cell_type": "code",
      "source": [
        "##############\tblock 2\t\t##########################\n",
        "\n",
        "# Layer 6\n",
        "layer6 = Conv2D(32, (3,3), strides=(1,1), padding='same', name='conv_6', use_bias=False)(layer5)\n",
        "layer6 = BatchNormalization(name='norm_6')(layer6)\n",
        "#layer6 = keras.activations.relu(layer6, alpha=0.1)\n",
        "layer6 = LeakyReLU(alpha=0.1)(layer6)\n",
        "\n",
        "\n",
        "# Layer 7\n",
        "layer7 = Conv2D(64, (3,3), strides=(1,1), padding='same', name='conv_7', use_bias=False)(layer6)\n",
        "layer7 = BatchNormalization(name='norm_7')(layer7)\n",
        "#layer7 = keras.activations.relu(layer7, alpha=0.1)\n",
        "layer7 = LeakyReLU(alpha=0.1)(layer7)\n",
        "\n",
        "\n",
        "# Layer 8\n",
        "layer8 = Conv2D(128, (3,3), strides=(1,1), padding='same', name='conv_8', use_bias=False)(layer7)\n",
        "layer8 = BatchNormalization(name='norm_8')(layer8)\n",
        "#layer8 = keras.activations.relu(layer8, alpha=0.1)\n",
        "layer8 = LeakyReLU(alpha=0.1)(layer8)\n",
        "\n",
        "\n",
        "# Layer 9\n",
        "layer9 = Conv2D(256, (3,3), strides=(1,1), padding='same', name='conv_9', use_bias=False)(layer8)\n",
        "layer9 = BatchNormalization(name='norm_9')(layer9)\n",
        "#layer9 = keras.activations.relu(layer9, alpha=0.1)\n",
        "layer9 = LeakyReLU(alpha=0.1)(layer9)\n",
        "\n",
        "\n",
        "# Layer 10\n",
        "layer10 = Conv2D(512, (3,3), strides=(1,1), padding='same', name='conv_10', use_bias=False)(layer9)\n",
        "layer10 = BatchNormalization(name='norm_10')(layer10)\n",
        "#layer10 = keras.activations.relu(layer10, alpha=0.1)\n",
        "layer10 = LeakyReLU(alpha=0.1)(layer10)\n",
        "\n",
        "\n",
        "layer10 = MaxPooling2D(pool_size=(2, 2))(layer10)\n",
        "\n",
        "##############\tblock 2\tends here\t##########################\n",
        "layer10"
      ],
      "execution_count": 0,
      "outputs": [
        {
          "output_type": "execute_result",
          "data": {
            "text/plain": [
              "<tf.Tensor 'max_pooling2d_306/MaxPool:0' shape=(?, 8, 8, 512) dtype=float32>"
            ]
          },
          "metadata": {
            "tags": []
          },
          "execution_count": 158
        }
      ]
    },
    {
      "metadata": {
        "id": "J6HXps7nCeYz",
        "colab_type": "code",
        "outputId": "05075ba0-6f3f-4f8b-e022-d6eb1c115959",
        "colab": {
          "base_uri": "https://localhost:8080/",
          "height": 34
        }
      },
      "cell_type": "code",
      "source": [
        "##############\tblock 3\t\t##########################\n",
        "\n",
        "# Layer 11\n",
        "layer11 = Conv2D(32, (3,3), strides=(1,1), padding='same', name='conv_11', use_bias=False)(layer10)\n",
        "layer11 = BatchNormalization(name='norm_11')(layer11)\n",
        "#layer11 = keras.activations.relu(layer11, alpha=0.1)\n",
        "layer11 = LeakyReLU(alpha=0.1)(layer11)\n",
        "\n",
        "# Layer 12\n",
        "layer12 = Conv2D(64, (3,3), strides=(1,1), padding='same', name='conv_12', use_bias=False)(layer11)\n",
        "layer12 = BatchNormalization(name='norm_12')(layer12)\n",
        "#layer12 = keras.activations.relu(layer12, alpha=0.1)\n",
        "layer12 = LeakyReLU(alpha=0.1)(layer12)\n",
        "\n",
        "# Layer 13\n",
        "layer13 = Conv2D(128, (3,3), strides=(1,1), padding='same', name='conv_13', use_bias=False)(layer12)\n",
        "layer13 = BatchNormalization(name='norm_13')(layer13)\n",
        "#layer13 = keras.activations.relu(layer13, alpha=0.1)\n",
        "layer13 = LeakyReLU(alpha=0.1)(layer13)\n",
        "\n",
        "# Layer 14\n",
        "layer14 = Conv2D(256, (3,3), strides=(1,1), padding='same', name='conv_14', use_bias=False)(layer13)\n",
        "layer14 = BatchNormalization(name='norm_14')(layer14)\n",
        "#layer14 = keras.activations.relu(layer14, alpha=0.1)\n",
        "layer14 = LeakyReLU(alpha=0.1)(layer14)\n",
        "\n",
        "\n",
        "# Layer 15\n",
        "layer15 = Conv2D(512, (3,3), strides=(1,1), padding='same', name='conv_15', use_bias=False)(layer14)\n",
        "layer15 = BatchNormalization(name='norm_15')(layer15)\n",
        "#layer15 = keras.activations.relu(layer15, alpha=0.1)\n",
        "layer15 = LeakyReLU(alpha=0.1)(layer15)\n",
        "\n",
        "layer15 = MaxPooling2D(pool_size=(2, 2))(layer15)\n",
        "\n",
        "##############\tblock 3\tends here\t##########################\n",
        "layer15"
      ],
      "execution_count": 0,
      "outputs": [
        {
          "output_type": "execute_result",
          "data": {
            "text/plain": [
              "<tf.Tensor 'max_pooling2d_307/MaxPool:0' shape=(?, 4, 4, 512) dtype=float32>"
            ]
          },
          "metadata": {
            "tags": []
          },
          "execution_count": 159
        }
      ]
    },
    {
      "metadata": {
        "id": "_oDIpTJmC08s",
        "colab_type": "code",
        "outputId": "74ea1dff-7e5f-4007-bf45-565a022d957c",
        "colab": {
          "base_uri": "https://localhost:8080/",
          "height": 34
        }
      },
      "cell_type": "code",
      "source": [
        "##############\tblock 4\t\t##########################\n",
        "\n",
        "\n",
        "# Layer 16\n",
        "layer16 = Conv2D(32, (3,3), strides=(1,1), padding='same', name='conv_16', use_bias=False)(layer15)\n",
        "layer16 = BatchNormalization(name='norm_16')(layer16)\n",
        "#layer16 = keras.activations.relu(layer16, alpha=0.1)\n",
        "layer16 = LeakyReLU(alpha=0.1)(layer16)\n",
        "\n",
        "# Layer 17\n",
        "layer17 = Conv2D(64, (3,3), strides=(1,1), padding='same', name='conv_17', use_bias=False)(layer16)\n",
        "layer17 = BatchNormalization(name='norm_17')(layer17)\n",
        "#layer17 = keras.activations.relu(layer17, alpha=0.1)\n",
        "layer17 = LeakyReLU(alpha=0.1)(layer17)\n",
        "\n",
        "# Layer 18\n",
        "layer18 = Conv2D(128, (3,3), strides=(1,1), padding='same', name='conv_18', use_bias=False)(layer17)\n",
        "layer18 = BatchNormalization(name='norm_18')(layer18)\n",
        "#layer18 = keras.activations.relu(layer18, alpha=0.1)\n",
        "layer18 = LeakyReLU(alpha=0.1)(layer18)\n",
        "\n",
        "# Layer 19\n",
        "layer19 = Conv2D(256, (3,3), strides=(1,1), padding='same', name='conv_19', use_bias=False)(layer18)\n",
        "layer19 = BatchNormalization(name='norm_19')(layer19)\n",
        "#layer19 = keras.activations.relu(layer19, alpha=0.1)\n",
        "layer19 = LeakyReLU(alpha=0.1)(layer19)\n",
        "\n",
        "# Layer 20\n",
        "layer20 = Conv2D(512, (3,3), strides=(1,1), padding='same', name='conv_20', use_bias=False)(layer19)\n",
        "layer20 = BatchNormalization(name='norm_20')(layer20)\n",
        "#layer20 = keras.activations.relu(layer20, alpha=0.1)\n",
        "layer20 = LeakyReLU(alpha=0.1)(layer20)\n",
        "\n",
        "layer20 = MaxPooling2D(pool_size=(2, 2))(layer20)\n",
        "\n",
        "##############\tblock 4\tends here\t##########################\n",
        "layer20"
      ],
      "execution_count": 0,
      "outputs": [
        {
          "output_type": "execute_result",
          "data": {
            "text/plain": [
              "<tf.Tensor 'max_pooling2d_308/MaxPool:0' shape=(?, 2, 2, 512) dtype=float32>"
            ]
          },
          "metadata": {
            "tags": []
          },
          "execution_count": 160
        }
      ]
    },
    {
      "metadata": {
        "id": "QeeBD0PgC8Cg",
        "colab_type": "code",
        "outputId": "aaac1d19-c5a9-474e-c4eb-e8a0b349d6a0",
        "colab": {
          "base_uri": "https://localhost:8080/",
          "height": 34
        }
      },
      "cell_type": "code",
      "source": [
        "skip_connection = layer5\n",
        "skip_connection"
      ],
      "execution_count": 0,
      "outputs": [
        {
          "output_type": "execute_result",
          "data": {
            "text/plain": [
              "<tf.Tensor 'max_pooling2d_305/MaxPool:0' shape=(?, 16, 16, 512) dtype=float32>"
            ]
          },
          "metadata": {
            "tags": []
          },
          "execution_count": 161
        }
      ]
    },
    {
      "metadata": {
        "id": "JbLch9bbDLeO",
        "colab_type": "code",
        "colab": {}
      },
      "cell_type": "code",
      "source": [
        "# Layer 21\n",
        "skip_connection = Conv2D(32, (3,3), strides=(1,1), padding='same', name='conv_21', use_bias=False)(skip_connection)\n",
        "skip_connection = BatchNormalization(name='norm_21')(skip_connection)\n",
        "#skip_connection = keras.activations.relu(skip_connection, alpha=0.1)\n",
        "skip_connection = LeakyReLU(alpha=0.1)(skip_connection)\n",
        "skip_connection = MaxPooling2D(pool_size=(2, 2))(skip_connection)\n",
        "skip_connection = Lambda(space_to_depth_x2)(skip_connection)\n",
        "skip_connection = Lambda(space_to_depth_x2)(skip_connection)\n",
        "\n",
        "layer21 = concatenate([skip_connection, layer20])\n",
        "\n",
        "# Layer 22\n",
        "layer22 = Flatten()(layer21)\n",
        "\n",
        "output = Dense(num_classes, activation='softmax')(layer22)"
      ],
      "execution_count": 0,
      "outputs": []
    },
    {
      "metadata": {
        "id": "Jeh0VAxy26NV",
        "colab_type": "code",
        "outputId": "37e31640-b302-4ea0-b72b-f2f1859e04af",
        "colab": {
          "base_uri": "https://localhost:8080/",
          "height": 2669
        }
      },
      "cell_type": "code",
      "source": [
        "model = Model(inputs=[input], outputs=[output])\n",
        "model.summary()"
      ],
      "execution_count": 0,
      "outputs": [
        {
          "output_type": "stream",
          "text": [
            "__________________________________________________________________________________________________\n",
            "Layer (type)                    Output Shape         Param #     Connected to                     \n",
            "==================================================================================================\n",
            "input_58 (InputLayer)           (None, 32, 32, 3)    0                                            \n",
            "__________________________________________________________________________________________________\n",
            "conv_1 (Conv2D)                 (None, 32, 32, 32)   864         input_58[0][0]                   \n",
            "__________________________________________________________________________________________________\n",
            "norm_1 (BatchNormalization)     (None, 32, 32, 32)   128         conv_1[0][0]                     \n",
            "__________________________________________________________________________________________________\n",
            "leaky_re_lu_1 (LeakyReLU)       (None, 32, 32, 32)   0           norm_1[0][0]                     \n",
            "__________________________________________________________________________________________________\n",
            "conv_2 (Conv2D)                 (None, 32, 32, 64)   18432       leaky_re_lu_1[0][0]              \n",
            "__________________________________________________________________________________________________\n",
            "norm_2 (BatchNormalization)     (None, 32, 32, 64)   256         conv_2[0][0]                     \n",
            "__________________________________________________________________________________________________\n",
            "leaky_re_lu_2 (LeakyReLU)       (None, 32, 32, 64)   0           norm_2[0][0]                     \n",
            "__________________________________________________________________________________________________\n",
            "conv_3 (Conv2D)                 (None, 32, 32, 128)  73728       leaky_re_lu_2[0][0]              \n",
            "__________________________________________________________________________________________________\n",
            "norm_3 (BatchNormalization)     (None, 32, 32, 128)  512         conv_3[0][0]                     \n",
            "__________________________________________________________________________________________________\n",
            "leaky_re_lu_3 (LeakyReLU)       (None, 32, 32, 128)  0           norm_3[0][0]                     \n",
            "__________________________________________________________________________________________________\n",
            "conv_4 (Conv2D)                 (None, 32, 32, 256)  294912      leaky_re_lu_3[0][0]              \n",
            "__________________________________________________________________________________________________\n",
            "norm_4 (BatchNormalization)     (None, 32, 32, 256)  1024        conv_4[0][0]                     \n",
            "__________________________________________________________________________________________________\n",
            "leaky_re_lu_4 (LeakyReLU)       (None, 32, 32, 256)  0           norm_4[0][0]                     \n",
            "__________________________________________________________________________________________________\n",
            "conv_5 (Conv2D)                 (None, 32, 32, 512)  1179648     leaky_re_lu_4[0][0]              \n",
            "__________________________________________________________________________________________________\n",
            "norm_5 (BatchNormalization)     (None, 32, 32, 512)  2048        conv_5[0][0]                     \n",
            "__________________________________________________________________________________________________\n",
            "leaky_re_lu_5 (LeakyReLU)       (None, 32, 32, 512)  0           norm_5[0][0]                     \n",
            "__________________________________________________________________________________________________\n",
            "max_pooling2d_305 (MaxPooling2D (None, 16, 16, 512)  0           leaky_re_lu_5[0][0]              \n",
            "__________________________________________________________________________________________________\n",
            "conv_6 (Conv2D)                 (None, 16, 16, 32)   147456      max_pooling2d_305[0][0]          \n",
            "__________________________________________________________________________________________________\n",
            "norm_6 (BatchNormalization)     (None, 16, 16, 32)   128         conv_6[0][0]                     \n",
            "__________________________________________________________________________________________________\n",
            "leaky_re_lu_6 (LeakyReLU)       (None, 16, 16, 32)   0           norm_6[0][0]                     \n",
            "__________________________________________________________________________________________________\n",
            "conv_7 (Conv2D)                 (None, 16, 16, 64)   18432       leaky_re_lu_6[0][0]              \n",
            "__________________________________________________________________________________________________\n",
            "norm_7 (BatchNormalization)     (None, 16, 16, 64)   256         conv_7[0][0]                     \n",
            "__________________________________________________________________________________________________\n",
            "leaky_re_lu_7 (LeakyReLU)       (None, 16, 16, 64)   0           norm_7[0][0]                     \n",
            "__________________________________________________________________________________________________\n",
            "conv_8 (Conv2D)                 (None, 16, 16, 128)  73728       leaky_re_lu_7[0][0]              \n",
            "__________________________________________________________________________________________________\n",
            "norm_8 (BatchNormalization)     (None, 16, 16, 128)  512         conv_8[0][0]                     \n",
            "__________________________________________________________________________________________________\n",
            "leaky_re_lu_8 (LeakyReLU)       (None, 16, 16, 128)  0           norm_8[0][0]                     \n",
            "__________________________________________________________________________________________________\n",
            "conv_9 (Conv2D)                 (None, 16, 16, 256)  294912      leaky_re_lu_8[0][0]              \n",
            "__________________________________________________________________________________________________\n",
            "norm_9 (BatchNormalization)     (None, 16, 16, 256)  1024        conv_9[0][0]                     \n",
            "__________________________________________________________________________________________________\n",
            "leaky_re_lu_9 (LeakyReLU)       (None, 16, 16, 256)  0           norm_9[0][0]                     \n",
            "__________________________________________________________________________________________________\n",
            "conv_10 (Conv2D)                (None, 16, 16, 512)  1179648     leaky_re_lu_9[0][0]              \n",
            "__________________________________________________________________________________________________\n",
            "norm_10 (BatchNormalization)    (None, 16, 16, 512)  2048        conv_10[0][0]                    \n",
            "__________________________________________________________________________________________________\n",
            "leaky_re_lu_10 (LeakyReLU)      (None, 16, 16, 512)  0           norm_10[0][0]                    \n",
            "__________________________________________________________________________________________________\n",
            "max_pooling2d_306 (MaxPooling2D (None, 8, 8, 512)    0           leaky_re_lu_10[0][0]             \n",
            "__________________________________________________________________________________________________\n",
            "conv_11 (Conv2D)                (None, 8, 8, 32)     147456      max_pooling2d_306[0][0]          \n",
            "__________________________________________________________________________________________________\n",
            "norm_11 (BatchNormalization)    (None, 8, 8, 32)     128         conv_11[0][0]                    \n",
            "__________________________________________________________________________________________________\n",
            "leaky_re_lu_11 (LeakyReLU)      (None, 8, 8, 32)     0           norm_11[0][0]                    \n",
            "__________________________________________________________________________________________________\n",
            "conv_12 (Conv2D)                (None, 8, 8, 64)     18432       leaky_re_lu_11[0][0]             \n",
            "__________________________________________________________________________________________________\n",
            "norm_12 (BatchNormalization)    (None, 8, 8, 64)     256         conv_12[0][0]                    \n",
            "__________________________________________________________________________________________________\n",
            "leaky_re_lu_12 (LeakyReLU)      (None, 8, 8, 64)     0           norm_12[0][0]                    \n",
            "__________________________________________________________________________________________________\n",
            "conv_13 (Conv2D)                (None, 8, 8, 128)    73728       leaky_re_lu_12[0][0]             \n",
            "__________________________________________________________________________________________________\n",
            "norm_13 (BatchNormalization)    (None, 8, 8, 128)    512         conv_13[0][0]                    \n",
            "__________________________________________________________________________________________________\n",
            "leaky_re_lu_13 (LeakyReLU)      (None, 8, 8, 128)    0           norm_13[0][0]                    \n",
            "__________________________________________________________________________________________________\n",
            "conv_14 (Conv2D)                (None, 8, 8, 256)    294912      leaky_re_lu_13[0][0]             \n",
            "__________________________________________________________________________________________________\n",
            "norm_14 (BatchNormalization)    (None, 8, 8, 256)    1024        conv_14[0][0]                    \n",
            "__________________________________________________________________________________________________\n",
            "leaky_re_lu_14 (LeakyReLU)      (None, 8, 8, 256)    0           norm_14[0][0]                    \n",
            "__________________________________________________________________________________________________\n",
            "conv_15 (Conv2D)                (None, 8, 8, 512)    1179648     leaky_re_lu_14[0][0]             \n",
            "__________________________________________________________________________________________________\n",
            "norm_15 (BatchNormalization)    (None, 8, 8, 512)    2048        conv_15[0][0]                    \n",
            "__________________________________________________________________________________________________\n",
            "leaky_re_lu_15 (LeakyReLU)      (None, 8, 8, 512)    0           norm_15[0][0]                    \n",
            "__________________________________________________________________________________________________\n",
            "max_pooling2d_307 (MaxPooling2D (None, 4, 4, 512)    0           leaky_re_lu_15[0][0]             \n",
            "__________________________________________________________________________________________________\n",
            "conv_16 (Conv2D)                (None, 4, 4, 32)     147456      max_pooling2d_307[0][0]          \n",
            "__________________________________________________________________________________________________\n",
            "norm_16 (BatchNormalization)    (None, 4, 4, 32)     128         conv_16[0][0]                    \n",
            "__________________________________________________________________________________________________\n",
            "leaky_re_lu_16 (LeakyReLU)      (None, 4, 4, 32)     0           norm_16[0][0]                    \n",
            "__________________________________________________________________________________________________\n",
            "conv_17 (Conv2D)                (None, 4, 4, 64)     18432       leaky_re_lu_16[0][0]             \n",
            "__________________________________________________________________________________________________\n",
            "norm_17 (BatchNormalization)    (None, 4, 4, 64)     256         conv_17[0][0]                    \n",
            "__________________________________________________________________________________________________\n",
            "leaky_re_lu_17 (LeakyReLU)      (None, 4, 4, 64)     0           norm_17[0][0]                    \n",
            "__________________________________________________________________________________________________\n",
            "conv_18 (Conv2D)                (None, 4, 4, 128)    73728       leaky_re_lu_17[0][0]             \n",
            "__________________________________________________________________________________________________\n",
            "norm_18 (BatchNormalization)    (None, 4, 4, 128)    512         conv_18[0][0]                    \n",
            "__________________________________________________________________________________________________\n",
            "leaky_re_lu_18 (LeakyReLU)      (None, 4, 4, 128)    0           norm_18[0][0]                    \n",
            "__________________________________________________________________________________________________\n",
            "conv_19 (Conv2D)                (None, 4, 4, 256)    294912      leaky_re_lu_18[0][0]             \n",
            "__________________________________________________________________________________________________\n",
            "conv_21 (Conv2D)                (None, 16, 16, 32)   147456      max_pooling2d_305[0][0]          \n",
            "__________________________________________________________________________________________________\n",
            "norm_19 (BatchNormalization)    (None, 4, 4, 256)    1024        conv_19[0][0]                    \n",
            "__________________________________________________________________________________________________\n",
            "norm_21 (BatchNormalization)    (None, 16, 16, 32)   128         conv_21[0][0]                    \n",
            "__________________________________________________________________________________________________\n",
            "leaky_re_lu_19 (LeakyReLU)      (None, 4, 4, 256)    0           norm_19[0][0]                    \n",
            "__________________________________________________________________________________________________\n",
            "leaky_re_lu_21 (LeakyReLU)      (None, 16, 16, 32)   0           norm_21[0][0]                    \n",
            "__________________________________________________________________________________________________\n",
            "conv_20 (Conv2D)                (None, 4, 4, 512)    1179648     leaky_re_lu_19[0][0]             \n",
            "__________________________________________________________________________________________________\n",
            "max_pooling2d_309 (MaxPooling2D (None, 8, 8, 32)     0           leaky_re_lu_21[0][0]             \n",
            "__________________________________________________________________________________________________\n",
            "norm_20 (BatchNormalization)    (None, 4, 4, 512)    2048        conv_20[0][0]                    \n",
            "__________________________________________________________________________________________________\n",
            "lambda_152 (Lambda)             (None, 4, 4, 128)    0           max_pooling2d_309[0][0]          \n",
            "__________________________________________________________________________________________________\n",
            "leaky_re_lu_20 (LeakyReLU)      (None, 4, 4, 512)    0           norm_20[0][0]                    \n",
            "__________________________________________________________________________________________________\n",
            "lambda_153 (Lambda)             (None, 2, 2, 512)    0           lambda_152[0][0]                 \n",
            "__________________________________________________________________________________________________\n",
            "max_pooling2d_308 (MaxPooling2D (None, 2, 2, 512)    0           leaky_re_lu_20[0][0]             \n",
            "__________________________________________________________________________________________________\n",
            "concatenate_61 (Concatenate)    (None, 2, 2, 1024)   0           lambda_153[0][0]                 \n",
            "                                                                 max_pooling2d_308[0][0]          \n",
            "__________________________________________________________________________________________________\n",
            "flatten_28 (Flatten)            (None, 4096)         0           concatenate_61[0][0]             \n",
            "__________________________________________________________________________________________________\n",
            "dense_22 (Dense)                (None, 10)           40970       flatten_28[0][0]                 \n",
            "==================================================================================================\n",
            "Total params: 6,914,538\n",
            "Trainable params: 6,906,538\n",
            "Non-trainable params: 8,000\n",
            "__________________________________________________________________________________________________\n"
          ],
          "name": "stdout"
        }
      ]
    },
    {
      "metadata": {
        "id": "apCwOjvZ4Kts",
        "colab_type": "code",
        "colab": {}
      },
      "cell_type": "code",
      "source": [
        "# determine Loss function and Optimizer\n",
        "model.compile(loss='categorical_crossentropy',\n",
        "              optimizer=Adam(),\n",
        "              metrics=['accuracy'])"
      ],
      "execution_count": 0,
      "outputs": []
    },
    {
      "metadata": {
        "id": "tLaFy2AO4TLl",
        "colab_type": "code",
        "outputId": "1b52b1ed-62f9-4a78-dc83-3249bde0bf6b",
        "colab": {
          "base_uri": "https://localhost:8080/",
          "height": 1822
        }
      },
      "cell_type": "code",
      "source": [
        "model.fit(x_train, y_train,\n",
        "                    batch_size=batch_size,\n",
        "                    epochs=epochs,\n",
        "                    verbose=1,\n",
        "                    validation_data=(x_test, y_test))"
      ],
      "execution_count": 0,
      "outputs": [
        {
          "output_type": "stream",
          "text": [
            "WARNING:tensorflow:From /usr/local/lib/python3.6/dist-packages/tensorflow/python/ops/math_ops.py:3066: to_int32 (from tensorflow.python.ops.math_ops) is deprecated and will be removed in a future version.\n",
            "Instructions for updating:\n",
            "Use tf.cast instead.\n",
            "Train on 50000 samples, validate on 10000 samples\n",
            "Epoch 1/50\n",
            "50000/50000 [==============================] - 349s 7ms/step - loss: 1.5661 - acc: 0.4820 - val_loss: 5.2403 - val_acc: 0.3716\n",
            "Epoch 2/50\n",
            "50000/50000 [==============================] - 238s 5ms/step - loss: 1.1961 - acc: 0.6108 - val_loss: 3.1678 - val_acc: 0.3332\n",
            "Epoch 3/50\n",
            "50000/50000 [==============================] - 238s 5ms/step - loss: 0.9652 - acc: 0.6742 - val_loss: 1.2419 - val_acc: 0.5888\n",
            "Epoch 4/50\n",
            "50000/50000 [==============================] - 238s 5ms/step - loss: 0.7730 - acc: 0.7304 - val_loss: 0.8699 - val_acc: 0.6966\n",
            "Epoch 5/50\n",
            "50000/50000 [==============================] - 238s 5ms/step - loss: 0.6925 - acc: 0.7600 - val_loss: 0.8120 - val_acc: 0.7280\n",
            "Epoch 6/50\n",
            "50000/50000 [==============================] - 238s 5ms/step - loss: 0.6338 - acc: 0.7786 - val_loss: 0.7444 - val_acc: 0.7471\n",
            "Epoch 7/50\n",
            "50000/50000 [==============================] - 238s 5ms/step - loss: 0.5819 - acc: 0.7962 - val_loss: 1.0592 - val_acc: 0.6713\n",
            "Epoch 8/50\n",
            "50000/50000 [==============================] - 238s 5ms/step - loss: 0.5341 - acc: 0.8146 - val_loss: 0.8223 - val_acc: 0.7377\n",
            "Epoch 9/50\n",
            "50000/50000 [==============================] - 238s 5ms/step - loss: 0.4839 - acc: 0.8293 - val_loss: 1.0372 - val_acc: 0.6647\n",
            "Epoch 10/50\n",
            "50000/50000 [==============================] - 238s 5ms/step - loss: 0.4404 - acc: 0.8478 - val_loss: 0.6661 - val_acc: 0.7798\n",
            "Epoch 11/50\n",
            "50000/50000 [==============================] - 238s 5ms/step - loss: 0.4004 - acc: 0.8605 - val_loss: 0.7814 - val_acc: 0.7619\n",
            "Epoch 12/50\n",
            "50000/50000 [==============================] - 238s 5ms/step - loss: 0.3574 - acc: 0.8765 - val_loss: 0.8652 - val_acc: 0.7311\n",
            "Epoch 13/50\n",
            "50000/50000 [==============================] - 238s 5ms/step - loss: 0.3206 - acc: 0.8876 - val_loss: 0.7881 - val_acc: 0.7561\n",
            "Epoch 14/50\n",
            "50000/50000 [==============================] - 238s 5ms/step - loss: 0.2798 - acc: 0.9027 - val_loss: 0.7893 - val_acc: 0.7723\n",
            "Epoch 15/50\n",
            "50000/50000 [==============================] - 238s 5ms/step - loss: 0.2381 - acc: 0.9166 - val_loss: 1.0379 - val_acc: 0.7251\n",
            "Epoch 16/50\n",
            "50000/50000 [==============================] - 238s 5ms/step - loss: 0.1986 - acc: 0.9325 - val_loss: 0.8455 - val_acc: 0.7691\n",
            "Epoch 17/50\n",
            "50000/50000 [==============================] - 238s 5ms/step - loss: 0.1650 - acc: 0.9440 - val_loss: 0.8471 - val_acc: 0.7802\n",
            "Epoch 18/50\n",
            "50000/50000 [==============================] - 239s 5ms/step - loss: 0.1298 - acc: 0.9572 - val_loss: 1.0821 - val_acc: 0.7475\n",
            "Epoch 19/50\n",
            "50000/50000 [==============================] - 238s 5ms/step - loss: 0.1055 - acc: 0.9645 - val_loss: 0.9069 - val_acc: 0.7666\n",
            "Epoch 20/50\n",
            "50000/50000 [==============================] - 239s 5ms/step - loss: 0.0848 - acc: 0.9730 - val_loss: 0.9103 - val_acc: 0.7842\n",
            "Epoch 21/50\n",
            "50000/50000 [==============================] - 238s 5ms/step - loss: 0.0823 - acc: 0.9726 - val_loss: 1.3940 - val_acc: 0.7320\n",
            "Epoch 22/50\n",
            "50000/50000 [==============================] - 238s 5ms/step - loss: 0.0762 - acc: 0.9742 - val_loss: 1.0086 - val_acc: 0.7766\n",
            "Epoch 23/50\n",
            "50000/50000 [==============================] - 238s 5ms/step - loss: 0.0619 - acc: 0.9805 - val_loss: 1.2127 - val_acc: 0.7525\n",
            "Epoch 24/50\n",
            "50000/50000 [==============================] - 239s 5ms/step - loss: 0.0543 - acc: 0.9826 - val_loss: 0.9907 - val_acc: 0.7900\n",
            "Epoch 25/50\n",
            "50000/50000 [==============================] - 239s 5ms/step - loss: 0.0537 - acc: 0.9821 - val_loss: 1.2590 - val_acc: 0.7522\n",
            "Epoch 26/50\n",
            "50000/50000 [==============================] - 239s 5ms/step - loss: 0.0601 - acc: 0.9797 - val_loss: 1.0423 - val_acc: 0.7879\n",
            "Epoch 27/50\n",
            "50000/50000 [==============================] - 238s 5ms/step - loss: 0.0392 - acc: 0.9878 - val_loss: 1.1306 - val_acc: 0.7735\n",
            "Epoch 28/50\n",
            "50000/50000 [==============================] - 238s 5ms/step - loss: 0.0485 - acc: 0.9843 - val_loss: 1.1569 - val_acc: 0.7777\n",
            "Epoch 29/50\n",
            "50000/50000 [==============================] - 238s 5ms/step - loss: 0.0457 - acc: 0.9849 - val_loss: 1.0050 - val_acc: 0.7941\n",
            "Epoch 30/50\n",
            "50000/50000 [==============================] - 238s 5ms/step - loss: 0.0167 - acc: 0.9962 - val_loss: 1.0843 - val_acc: 0.7931\n",
            "Epoch 31/50\n",
            "50000/50000 [==============================] - 238s 5ms/step - loss: 0.0212 - acc: 0.9938 - val_loss: 1.3575 - val_acc: 0.7610\n",
            "Epoch 32/50\n",
            "50000/50000 [==============================] - 238s 5ms/step - loss: 0.0990 - acc: 0.9651 - val_loss: 1.1131 - val_acc: 0.7870\n",
            "Epoch 33/50\n",
            "50000/50000 [==============================] - 239s 5ms/step - loss: 0.0289 - acc: 0.9907 - val_loss: 1.0198 - val_acc: 0.7991\n",
            "Epoch 34/50\n",
            "50000/50000 [==============================] - 239s 5ms/step - loss: 0.0065 - acc: 0.9990 - val_loss: 0.9662 - val_acc: 0.8180\n",
            "Epoch 35/50\n",
            "50000/50000 [==============================] - 239s 5ms/step - loss: 0.0020 - acc: 0.9999 - val_loss: 0.9515 - val_acc: 0.8226\n",
            "Epoch 36/50\n",
            "50000/50000 [==============================] - 238s 5ms/step - loss: 8.3638e-04 - acc: 1.0000 - val_loss: 0.9256 - val_acc: 0.8273\n",
            "Epoch 37/50\n",
            "50000/50000 [==============================] - 238s 5ms/step - loss: 4.9469e-04 - acc: 1.0000 - val_loss: 0.9365 - val_acc: 0.8264\n",
            "Epoch 38/50\n",
            "50000/50000 [==============================] - 239s 5ms/step - loss: 3.8609e-04 - acc: 1.0000 - val_loss: 0.9373 - val_acc: 0.8295\n",
            "Epoch 39/50\n",
            "50000/50000 [==============================] - 239s 5ms/step - loss: 3.0510e-04 - acc: 1.0000 - val_loss: 0.9437 - val_acc: 0.8282\n",
            "Epoch 40/50\n",
            "50000/50000 [==============================] - 239s 5ms/step - loss: 2.4260e-04 - acc: 1.0000 - val_loss: 0.9471 - val_acc: 0.8293\n",
            "Epoch 41/50\n",
            "50000/50000 [==============================] - 238s 5ms/step - loss: 2.0640e-04 - acc: 1.0000 - val_loss: 0.9546 - val_acc: 0.8293\n",
            "Epoch 42/50\n",
            "50000/50000 [==============================] - 239s 5ms/step - loss: 1.8186e-04 - acc: 1.0000 - val_loss: 0.9590 - val_acc: 0.8297\n",
            "Epoch 43/50\n",
            "50000/50000 [==============================] - 240s 5ms/step - loss: 1.4724e-04 - acc: 1.0000 - val_loss: 0.9689 - val_acc: 0.8286\n",
            "Epoch 44/50\n",
            "50000/50000 [==============================] - 241s 5ms/step - loss: 1.2332e-04 - acc: 1.0000 - val_loss: 0.9731 - val_acc: 0.8300\n",
            "Epoch 45/50\n",
            "50000/50000 [==============================] - 241s 5ms/step - loss: 1.0011e-04 - acc: 1.0000 - val_loss: 0.9820 - val_acc: 0.8291\n",
            "Epoch 46/50\n",
            "50000/50000 [==============================] - 241s 5ms/step - loss: 8.5217e-05 - acc: 1.0000 - val_loss: 0.9922 - val_acc: 0.8287\n",
            "Epoch 47/50\n",
            "50000/50000 [==============================] - 241s 5ms/step - loss: 6.8578e-05 - acc: 1.0000 - val_loss: 0.9935 - val_acc: 0.8298\n",
            "Epoch 48/50\n",
            "50000/50000 [==============================] - 241s 5ms/step - loss: 5.9495e-05 - acc: 1.0000 - val_loss: 1.0018 - val_acc: 0.8304\n",
            "Epoch 49/50\n",
            "50000/50000 [==============================] - 241s 5ms/step - loss: 5.3474e-05 - acc: 1.0000 - val_loss: 1.0115 - val_acc: 0.8312\n",
            "Epoch 50/50\n",
            "50000/50000 [==============================] - 241s 5ms/step - loss: 4.1769e-05 - acc: 1.0000 - val_loss: 1.0154 - val_acc: 0.8314\n"
          ],
          "name": "stdout"
        },
        {
          "output_type": "execute_result",
          "data": {
            "text/plain": [
              "<keras.callbacks.History at 0x7f97c0bd8908>"
            ]
          },
          "metadata": {
            "tags": []
          },
          "execution_count": 165
        }
      ]
    },
    {
      "metadata": {
        "id": "pTfZIGrf4Uyd",
        "colab_type": "code",
        "outputId": "0b50a1ec-4927-4fc3-fb56-b35899763706",
        "colab": {
          "base_uri": "https://localhost:8080/",
          "height": 85
        }
      },
      "cell_type": "code",
      "source": [
        "# Test the model\n",
        "score = model.evaluate(x_test, y_test, verbose=1)\n",
        "print('Test loss:', score[0])\n",
        "print('Test accuracy:', score[1])\n",
        "# Save the trained weights in to .h5 format\n",
        "model.save_weights(\"Yolo_Basic_model2.h5\")\n",
        "print(\"Saved the model to disk\")"
      ],
      "execution_count": 0,
      "outputs": [
        {
          "output_type": "stream",
          "text": [
            "10000/10000 [==============================] - 19s 2ms/step\n",
            "Test loss: 1.0153654236733913\n",
            "Test accuracy: 0.8314\n",
            "Saved the model to disk\n"
          ],
          "name": "stdout"
        }
      ]
    },
    {
      "metadata": {
        "id": "g9A3pesKbUJ8",
        "colab_type": "code",
        "colab": {}
      },
      "cell_type": "code",
      "source": [
        "from google.colab import files\n",
        "files.download('Yolo_Basic_model2.h5')"
      ],
      "execution_count": 0,
      "outputs": []
    },
    {
      "metadata": {
        "id": "VvuBSPlcdkTc",
        "colab_type": "code",
        "outputId": "b4532bfc-c080-481d-9643-40c8e18e17c7",
        "colab": {
          "base_uri": "https://localhost:8080/",
          "height": 68
        }
      },
      "cell_type": "code",
      "source": [
        "!ls -lrt"
      ],
      "execution_count": 0,
      "outputs": [
        {
          "output_type": "stream",
          "text": [
            "total 27180\n",
            "drwxr-xr-x 1 root root     4096 Mar  8 17:26 sample_data\n",
            "-rw-r--r-- 1 root root 27823264 Mar 17 09:30 Yolo_Basic_model2.h5\n"
          ],
          "name": "stdout"
        }
      ]
    },
    {
      "metadata": {
        "id": "Ea-9PWwbd1tP",
        "colab_type": "code",
        "colab": {}
      },
      "cell_type": "code",
      "source": [
        ""
      ],
      "execution_count": 0,
      "outputs": []
    }
  ]
}